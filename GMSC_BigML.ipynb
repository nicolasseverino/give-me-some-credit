{
 "cells": [
  {
   "cell_type": "markdown",
   "metadata": {},
   "source": [
    "# <center>GIVE ME SOME CREDIT (BIGML)</center>\n",
    "<div style=\"text-align: right\">Tous droits réservés © Nicolas SEVERINO</div>"
   ]
  },
  {
   "cell_type": "markdown",
   "metadata": {},
   "source": [
    "**BUT :** Améliorez l'état de la notation en matière de notation du crédit en prévoyant la probabilité que quelqu'un connaisse des difficultés financières au cours des deux prochaines années."
   ]
  },
  {
   "cell_type": "markdown",
   "metadata": {},
   "source": [
    "## 1ERE PARTIE - OPERATIONS SUR LE TRAINFULL SET"
   ]
  },
  {
   "cell_type": "markdown",
   "metadata": {
    "heading_collapsed": true
   },
   "source": [
    "### Importation des modules obligatoires : "
   ]
  },
  {
   "cell_type": "markdown",
   "metadata": {
    "hidden": true
   },
   "source": [
    "BigML : API pour établir tout le processus décisionnel ;  \n",
    "Pandas : API pour transmettre le résultat de notre algorithme et participer à la compétition ;  \n",
    "Kaggle : Bibliotèque Python permettant la manipulation et l'analyse des données ;  \n",
    "MatPlotLib : Visualisation graphique des données."
   ]
  },
  {
   "cell_type": "code",
   "execution_count": 6,
   "metadata": {
    "hidden": true
   },
   "outputs": [],
   "source": [
    "import bigml.api\n",
    "from bigml.api import BigML\n",
    "from pandas import read_csv, DataFrame\n",
    "import kaggle\n",
    "import matplotlib.pyplot as plt\n",
    "from sklearn.metrics import roc_auc_score\n",
    "#Commande permettant l'affichage avec la bibliothèque graphique intégrée à Jupyter Notebook\n",
    "%matplotlib inline"
   ]
  },
  {
   "cell_type": "markdown",
   "metadata": {
    "heading_collapsed": true
   },
   "source": [
    "### Lecture des fichiers CSV nécessaires"
   ]
  },
  {
   "cell_type": "markdown",
   "metadata": {
    "hidden": true
   },
   "source": [
    "On envoie toutes les données d'un csv qui est dans le même dossier que ce script.\n",
    "\n",
    "index_col=0 signifie qu'on traite la première colonne comme l'index (si on ne spécifie rien, ou si l'on met\n",
    "index_col=None, ce qui est pareil, on va se retrouver avec une colonne supplémentaire et inutile: \"Unnamed: 0\")."
   ]
  },
  {
   "cell_type": "code",
   "execution_count": 8,
   "metadata": {
    "hidden": true
   },
   "outputs": [],
   "source": [
    "df = read_csv('kaggle-give-me-credit-train.csv',index_col=0)\n",
    "df_test_kaggle = read_csv('kaggle-give-me-credit-test.csv',index_col=0)"
   ]
  },
  {
   "cell_type": "markdown",
   "metadata": {
    "heading_collapsed": true
   },
   "source": [
    "### Traitement du fichier \"kaggle-give-me-credit-train.csv\" (trainfull)"
   ]
  },
  {
   "cell_type": "markdown",
   "metadata": {
    "hidden": true
   },
   "source": [
    "On ajoute de nouvelles features (des données) au sein de nouvelles colonnes pour améliorer la précision de notre algorithme d'apprentissage."
   ]
  },
  {
   "cell_type": "code",
   "execution_count": 9,
   "metadata": {
    "hidden": true
   },
   "outputs": [],
   "source": [
    "df['IncomePerPerson'] = df['MonthlyIncome'] / ( df['NumberOfDependents'] + 1 )\n",
    "df.loc[df.age > 80, 'isOld'] = '1' \n",
    "df.loc[df.age <= 80, 'isOld'] = '0'\n",
    "df['MonthlyDebt'] = df['MonthlyIncome'] * df['DebtRatio']\n",
    "df['MonthlyBalance'] = df['MonthlyIncome'] - df['MonthlyDebt']\n",
    "df['DebtPerPerson'] = df['MonthlyDebt'] / ( df['NumberOfDependents'] + 1 )\n",
    "df['BalancePerPerson'] = df['MonthlyBalance'] / ( df['NumberOfDependents'] + 1 )\n",
    "df['NumberOfTime30-89DaysPastDueNotWorse'] = df['NumberOfTime30-59DaysPastDueNotWorse'] + df['NumberOfTime60-89DaysPastDueNotWorse']\n",
    "df['NumbersOfOpen-NumberRealEstate'] = df['NumberOfOpenCreditLinesAndLoans'] - df['NumberRealEstateLoansOrLines']"
   ]
  },
  {
   "cell_type": "markdown",
   "metadata": {
    "hidden": true
   },
   "source": [
    "On remplace les cellules vides par des 0"
   ]
  },
  {
   "cell_type": "code",
   "execution_count": 10,
   "metadata": {
    "hidden": true
   },
   "outputs": [],
   "source": [
    "df = df.fillna(0)"
   ]
  },
  {
   "cell_type": "markdown",
   "metadata": {
    "hidden": true
   },
   "source": [
    "On transfère toutes les données dans un fichier csv situé dans le même dossier que ce script.\n",
    "\n",
    "index_label=\"Id\" va mettre comme entête de la première colonne \"Id\" (nécessaire pour Kaggle)."
   ]
  },
  {
   "cell_type": "code",
   "execution_count": 11,
   "metadata": {
    "hidden": true
   },
   "outputs": [],
   "source": [
    "df.to_csv('PANDAset.csv',index_label=\"Id\")"
   ]
  },
  {
   "cell_type": "markdown",
   "metadata": {
    "hidden": true
   },
   "source": [
    "Connexion à BigML dans le bon projet (identifiant et mot de passe dans un autre fichier pour plus de sécurité).  \n",
    "Possibilité de supprimer également cette identification du projet pour plus de discrétion (Non nécessaire).\n"
   ]
  },
  {
   "cell_type": "code",
   "execution_count": 12,
   "metadata": {
    "hidden": true
   },
   "outputs": [],
   "source": [
    "api = BigML(project=\"project/5d94a42242129f2e16000246\")"
   ]
  },
  {
   "cell_type": "markdown",
   "metadata": {
    "heading_collapsed": true
   },
   "source": [
    "### Création d'une source de données à partir du fichier"
   ]
  },
  {
   "cell_type": "markdown",
   "metadata": {
    "hidden": true
   },
   "source": [
    "Création d'une source à partir du fichier csv modifié avec l'ajout de nouvelles features.\n",
    "\n",
    "Obligatoire pour créer un modèle prédictif:  \n",
    "- chaque colonne est une feature ;    \n",
    "- chaque ligne est un input ;  \n",
    "- la dernière colonne est normalement ce que l'on cherche à prévoir."
   ]
  },
  {
   "cell_type": "code",
   "execution_count": 13,
   "metadata": {
    "hidden": true
   },
   "outputs": [],
   "source": [
    "source = api.create_source('PANDAset.csv')"
   ]
  },
  {
   "cell_type": "markdown",
   "metadata": {
    "hidden": true
   },
   "source": [
    "Commandes qui nous permettent de s'assurer que l'étape précédente a bien été réalisée."
   ]
  },
  {
   "cell_type": "code",
   "execution_count": 14,
   "metadata": {
    "hidden": true
   },
   "outputs": [
    {
     "name": "stdout",
     "output_type": "stream",
     "text": [
      "Source créée\n"
     ]
    }
   ],
   "source": [
    "api.ok(source)\n",
    "print(\"Source créée\")"
   ]
  },
  {
   "cell_type": "markdown",
   "metadata": {
    "heading_collapsed": true
   },
   "source": [
    "### Transformation de la source en un ensemble de données traité et préparé pour le modèle"
   ]
  },
  {
   "cell_type": "markdown",
   "metadata": {
    "hidden": true
   },
   "source": [
    "Création d'un dataset à partir de la source précédemment créée.\n",
    "\n",
    "Un dataset est une version structurée d'une source dans laquelle chaque champs est traité et typé. Plusieurs types possibles : numérique, catégorique, texte,..."
   ]
  },
  {
   "cell_type": "code",
   "execution_count": 15,
   "metadata": {
    "hidden": true
   },
   "outputs": [],
   "source": [
    "origin_dataset = api.create_dataset(source)"
   ]
  },
  {
   "cell_type": "markdown",
   "metadata": {
    "hidden": true
   },
   "source": [
    "Commandes qui nous permettent de s'assurer que l'étape précédente a bien été réalisée."
   ]
  },
  {
   "cell_type": "code",
   "execution_count": 16,
   "metadata": {
    "hidden": true
   },
   "outputs": [
    {
     "name": "stdout",
     "output_type": "stream",
     "text": [
      "Dataset créé\n"
     ]
    }
   ],
   "source": [
    "api.ok(origin_dataset)\n",
    "print(\"Dataset créé\")"
   ]
  },
  {
   "cell_type": "markdown",
   "metadata": {
    "heading_collapsed": true
   },
   "source": [
    "### Division de cet ensemble de données en 2 pour entrainement du modèle"
   ]
  },
  {
   "cell_type": "markdown",
   "metadata": {
    "hidden": true
   },
   "source": [
    "On divise le dataset Trainfull en 2 : \n",
    "- Un sous-ensemble train (qui comprend 80% des données) ;  \n",
    "- Un sous-ensemble validation (qui comprend 20% des données).\n",
    "\n",
    "Information : \"out_of_bag\" signifie que l'ensemble de validation récupèrera le restant des données (donc les 20% du tout) / \"seed\" signifie que l'on souhaite que les 2 ensembles soient complémentaires."
   ]
  },
  {
   "cell_type": "code",
   "execution_count": 17,
   "metadata": {
    "hidden": true
   },
   "outputs": [],
   "source": [
    "train_dataset = api.create_dataset(\n",
    "    origin_dataset, {\"name\": \"PandaSet | TrainFull | Train (80%)\",\n",
    "                     \"sample_rate\": 0.8, \"seed\": \"my seed\"})\n",
    "validation_dataset = api.create_dataset(\n",
    "    origin_dataset, {\"name\": \"PandaSet | TrainFull | Validation (20%)\",\n",
    "                     \"sample_rate\": 0.8, \"seed\": \"my seed\",\n",
    "                     \"out_of_bag\": True})"
   ]
  },
  {
   "cell_type": "code",
   "execution_count": 20,
   "metadata": {
    "hidden": true
   },
   "outputs": [],
   "source": [
    "train_csv = api.download_dataset(train_dataset,filename='train_prepared_V1.csv')\n",
    "test_csv = api.download_dataset(validation_dataset,filename='val_prepared_V1.csv')"
   ]
  },
  {
   "cell_type": "markdown",
   "metadata": {
    "heading_collapsed": true
   },
   "source": [
    "### Création d'un modèle prédictif de type \"Model\" "
   ]
  },
  {
   "cell_type": "markdown",
   "metadata": {
    "hidden": true
   },
   "source": [
    "Le modèle se base sur le sous-ensemble Train du dataset et on précise quelle est la donnée que l'on recherche."
   ]
  },
  {
   "cell_type": "code",
   "execution_count": 12,
   "metadata": {
    "hidden": true
   },
   "outputs": [],
   "source": [
    "deepnet = api.create_deepnet(train_dataset, {\"objective_field\" : \"SeriousDlqin2yrs\"})"
   ]
  },
  {
   "cell_type": "markdown",
   "metadata": {
    "heading_collapsed": true
   },
   "source": [
    "### Mise en place d'une prédiction et traitement du fichier généré"
   ]
  },
  {
   "cell_type": "markdown",
   "metadata": {
    "hidden": true
   },
   "source": [
    "La prédiction se fait à partir du modèle et s'applique sur le sous-ensemble de validation.  \n",
    "On lui indique également qu'on retient tous les champs fournis (colonnes), leur entête, une colonne sur l'indice de confiance et les probabilités (2 colonnes vont être éditées)."
   ]
  },
  {
   "cell_type": "code",
   "execution_count": 13,
   "metadata": {
    "hidden": true
   },
   "outputs": [],
   "source": [
    "batch_prediction = api.create_batch_prediction(deepnet, validation_dataset,{\n",
    "    \"all_fields\": True, \"header\": True, \"confidence\" : True, \"probabilities\": True})"
   ]
  },
  {
   "cell_type": "markdown",
   "metadata": {
    "hidden": true
   },
   "source": [
    "Commandes qui nous permettent de s'assurer que l'étape précédente a bien été réalisée."
   ]
  },
  {
   "cell_type": "code",
   "execution_count": 14,
   "metadata": {
    "hidden": true
   },
   "outputs": [
    {
     "name": "stdout",
     "output_type": "stream",
     "text": [
      "Prediction faite\n"
     ]
    }
   ],
   "source": [
    "api.ok(batch_prediction)\n",
    "print('Prediction faite')"
   ]
  },
  {
   "cell_type": "markdown",
   "metadata": {
    "hidden": true
   },
   "source": [
    "On télécharge notre prédiction dans un fichier csv dans le même dossier que ce script."
   ]
  },
  {
   "cell_type": "code",
   "execution_count": 15,
   "metadata": {
    "hidden": true
   },
   "outputs": [
    {
     "data": {
      "text/plain": [
       "'my_predictions.csv'"
      ]
     },
     "execution_count": 15,
     "metadata": {},
     "output_type": "execute_result"
    }
   ],
   "source": [
    "api.download_batch_prediction(batch_prediction,filename='my_predictions.csv')"
   ]
  },
  {
   "cell_type": "markdown",
   "metadata": {
    "hidden": true
   },
   "source": [
    "On parcoure le fichier généré en précisant que la première colonne est l'index du fichier."
   ]
  },
  {
   "cell_type": "code",
   "execution_count": 16,
   "metadata": {
    "hidden": true
   },
   "outputs": [],
   "source": [
    "split_pred = read_csv('my_predictions.csv',index_col=0)"
   ]
  },
  {
   "cell_type": "markdown",
   "metadata": {
    "hidden": true
   },
   "source": [
    "On renomme l'entête de la colonne."
   ]
  },
  {
   "cell_type": "code",
   "execution_count": 17,
   "metadata": {
    "hidden": true
   },
   "outputs": [],
   "source": [
    "split_pred = split_pred.rename(columns={\"SeriousDlqin2yrs.1\":\"MyPrediction\"})"
   ]
  },
  {
   "cell_type": "markdown",
   "metadata": {
    "hidden": true
   },
   "source": [
    "On génère un nouveau fichier csv traité avec pour entête de la première colonne: \"Id\"."
   ]
  },
  {
   "cell_type": "code",
   "execution_count": 18,
   "metadata": {
    "hidden": true
   },
   "outputs": [],
   "source": [
    "split_pred.to_csv(\"my_prediction_v2.csv\", index_label=\"Id\")"
   ]
  },
  {
   "cell_type": "markdown",
   "metadata": {},
   "source": [
    "# 2EME PARTIE - VERIFICATION DE L'EFFICACITE DU MODELE"
   ]
  },
  {
   "cell_type": "markdown",
   "metadata": {
    "heading_collapsed": true
   },
   "source": [
    "### Evaluation de notre modèle"
   ]
  },
  {
   "cell_type": "markdown",
   "metadata": {
    "hidden": true
   },
   "source": [
    "Evaluation faite à partir du modèle et sur le sous-ensemble de validation."
   ]
  },
  {
   "cell_type": "code",
   "execution_count": 19,
   "metadata": {
    "hidden": true
   },
   "outputs": [],
   "source": [
    "evaluation = api.create_evaluation(deepnet, validation_dataset)"
   ]
  },
  {
   "cell_type": "markdown",
   "metadata": {
    "hidden": true
   },
   "source": [
    "Commandes qui nous permettent de s'assurer que l'étape précédente a bien été réalisée."
   ]
  },
  {
   "cell_type": "code",
   "execution_count": 20,
   "metadata": {
    "hidden": true
   },
   "outputs": [
    {
     "name": "stdout",
     "output_type": "stream",
     "text": [
      "Evaluation faite\n"
     ]
    }
   ],
   "source": [
    "api.ok(evaluation)\n",
    "print('Evaluation faite')"
   ]
  },
  {
   "cell_type": "markdown",
   "metadata": {
    "heading_collapsed": true
   },
   "source": [
    "### Matrice de confusion"
   ]
  },
  {
   "cell_type": "markdown",
   "metadata": {
    "hidden": true
   },
   "source": [
    "On lit le dernier fichier traité, on définit l'index et on cache les entête du fichier pour ne garder qu'une liste."
   ]
  },
  {
   "cell_type": "code",
   "execution_count": 21,
   "metadata": {
    "hidden": true
   },
   "outputs": [],
   "source": [
    "data = read_csv('my_prediction_v2.csv', index_col=0, header=0)"
   ]
  },
  {
   "cell_type": "markdown",
   "metadata": {
    "hidden": true
   },
   "source": [
    "On insère une nouvelle colonne en 12e position (pas important), dont le titre est \"confusion_tag\" et dont la valeur par défaut est 'none' (car on lui attribuera des valeurs plus tard)."
   ]
  },
  {
   "cell_type": "code",
   "execution_count": 22,
   "metadata": {
    "hidden": true
   },
   "outputs": [],
   "source": [
    "data.insert(12,\"confusion_tag\",'none')"
   ]
  },
  {
   "cell_type": "markdown",
   "metadata": {
    "hidden": true
   },
   "source": [
    "Fonction qui comparera 2 colonnes et attribuera dans la nouvelle colonne une valeur:  \n",
    "FN (False Negative) / TP (True Positive) / FP (False Positive) / TN (True Negative)"
   ]
  },
  {
   "cell_type": "code",
   "execution_count": 23,
   "metadata": {
    "hidden": true
   },
   "outputs": [],
   "source": [
    "def confusion(row):\n",
    "    if row['SeriousDlqin2yrs'] == 0 and row['MyPrediction'] == 0:\n",
    "        row['confusion_tag'] = 'TN'\n",
    "    if row['SeriousDlqin2yrs'] == 1 and row['MyPrediction'] == 1:\n",
    "        row['confusion_tag'] = 'TP'\n",
    "    if row['SeriousDlqin2yrs'] == 1 and row['MyPrediction'] == 0:\n",
    "        row['confusion_tag'] = 'FN'\n",
    "    if row['SeriousDlqin2yrs'] == 0 and row['MyPrediction'] == 1:\n",
    "        row['confusion_tag'] = 'FP'\n",
    "    return row"
   ]
  },
  {
   "cell_type": "markdown",
   "metadata": {
    "hidden": true
   },
   "source": [
    "On applique la fonction précédente pour chaque ligne."
   ]
  },
  {
   "cell_type": "code",
   "execution_count": 24,
   "metadata": {
    "hidden": true
   },
   "outputs": [],
   "source": [
    "data = data.apply(confusion, axis = 1)"
   ]
  },
  {
   "cell_type": "markdown",
   "metadata": {
    "hidden": true
   },
   "source": [
    "On exporte les résultats dans un nouveau fichier csv."
   ]
  },
  {
   "cell_type": "code",
   "execution_count": 25,
   "metadata": {
    "hidden": true
   },
   "outputs": [],
   "source": [
    "data.to_csv('kaggle-give-me-credit-train_confusion.csv', index_label=\"Id\")"
   ]
  },
  {
   "cell_type": "markdown",
   "metadata": {
    "hidden": true
   },
   "source": [
    "On cherche à compter le nombre de TN, TP, FP, FN.\n",
    "\n",
    "Pour chaque type, on cherche dans la colonne \"confusion_tag\" par une fonction qui nous retourne un tableau de booléens. Par exemple, dans le cas du TN (1ère ligne ci-dessous): la fonction data.loc va se placer dans la colonne concernée et vérifier si l'expression est vraie. Donc si sur la ligne il est indiqué \"TN\", la fonction va retourner \"True\". Tous les \"True\" sont conservés (pas les \"False\"). Puis on compte le nombre de valeurs contenues dans le tableau et on les affiche."
   ]
  },
  {
   "cell_type": "code",
   "execution_count": 26,
   "metadata": {
    "hidden": true
   },
   "outputs": [
    {
     "name": "stdout",
     "output_type": "stream",
     "text": [
      "TN : 27494\n",
      "TP : 486\n",
      "FP : 491\n",
      "FN : 1529\n"
     ]
    }
   ],
   "source": [
    "TN = len(data.loc[data['confusion_tag']=='TN'])\n",
    "TP = len(data.loc[data['confusion_tag']=='TP'])\n",
    "FP = len(data.loc[data['confusion_tag']=='FP'])\n",
    "FN = len(data.loc[data['confusion_tag']=='FN'])\n",
    "print(f'TN : {TN}')\n",
    "print(f'TP : {TP}')\n",
    "print(f'FP : {FP}')\n",
    "print(f'FN : {FN}')"
   ]
  },
  {
   "cell_type": "markdown",
   "metadata": {
    "heading_collapsed": true
   },
   "source": [
    "### Accuracy"
   ]
  },
  {
   "cell_type": "markdown",
   "metadata": {
    "hidden": true
   },
   "source": [
    "Accuracy à partir de la matrice de confusion."
   ]
  },
  {
   "cell_type": "code",
   "execution_count": 27,
   "metadata": {
    "hidden": true
   },
   "outputs": [
    {
     "data": {
      "text/plain": [
       "0.9326666666666666"
      ]
     },
     "execution_count": 27,
     "metadata": {},
     "output_type": "execute_result"
    }
   ],
   "source": [
    "accuracy = (TN+TP)/(TN+TP+FN+FP)\n",
    "accuracy"
   ]
  },
  {
   "cell_type": "markdown",
   "metadata": {
    "heading_collapsed": true
   },
   "source": [
    "### Précision"
   ]
  },
  {
   "cell_type": "markdown",
   "metadata": {
    "hidden": true
   },
   "source": [
    "Précision à partir de la matrice de confusion = probabilité que ce soit vraiment vrai sachant qu'on prédit que c'est vrai."
   ]
  },
  {
   "cell_type": "code",
   "execution_count": 28,
   "metadata": {
    "hidden": true
   },
   "outputs": [
    {
     "data": {
      "text/plain": [
       "0.49744114636642783"
      ]
     },
     "execution_count": 28,
     "metadata": {},
     "output_type": "execute_result"
    }
   ],
   "source": [
    "precision = TP/(TP+FP)\n",
    "precision"
   ]
  },
  {
   "cell_type": "markdown",
   "metadata": {
    "heading_collapsed": true
   },
   "source": [
    "### Recall"
   ]
  },
  {
   "cell_type": "markdown",
   "metadata": {
    "hidden": true
   },
   "source": [
    "Recall à partir de la matrice de confusion = probabilité qu'on prédise que c'est vrai sachant que c'est vraiment vrai."
   ]
  },
  {
   "cell_type": "code",
   "execution_count": 29,
   "metadata": {
    "hidden": true
   },
   "outputs": [
    {
     "data": {
      "text/plain": [
       "0.2411910669975186"
      ]
     },
     "execution_count": 29,
     "metadata": {},
     "output_type": "execute_result"
    }
   ],
   "source": [
    "recall = TP/(TP+FN)\n",
    "recall"
   ]
  },
  {
   "cell_type": "markdown",
   "metadata": {
    "heading_collapsed": true
   },
   "source": [
    "### Tri des 100 plus grosses erreurs"
   ]
  },
  {
   "cell_type": "markdown",
   "metadata": {
    "hidden": true
   },
   "source": [
    "Création d'une nouvelle colonne (erreurs absolues) qui fait la différence entre la probabilité de la classe positive et l'output, dont on converti le résultat en valeur absolue."
   ]
  },
  {
   "cell_type": "code",
   "execution_count": 30,
   "metadata": {
    "hidden": true
   },
   "outputs": [],
   "source": [
    "data['absolute_error'] = (data['1 probability']-data['SeriousDlqin2yrs']).abs()"
   ]
  },
  {
   "cell_type": "markdown",
   "metadata": {
    "hidden": true
   },
   "source": [
    "On classe la colonne par valeur par ordre décroissant et on sélectionne les 100 premières lignes."
   ]
  },
  {
   "cell_type": "code",
   "execution_count": 31,
   "metadata": {
    "hidden": true
   },
   "outputs": [],
   "source": [
    "desc_order = data.sort_values(by='absolute_error', ascending=False).head(100)"
   ]
  },
  {
   "cell_type": "markdown",
   "metadata": {
    "hidden": true
   },
   "source": [
    "On exporte les résultats dans un nouveau fichier csv."
   ]
  },
  {
   "cell_type": "code",
   "execution_count": 32,
   "metadata": {
    "hidden": true
   },
   "outputs": [],
   "source": [
    "desc_order.to_csv('100_biggest_errors.csv',index_label=\"Id\")"
   ]
  },
  {
   "cell_type": "markdown",
   "metadata": {
    "heading_collapsed": true
   },
   "source": [
    "### Seuil et matrice de coûts / gains"
   ]
  },
  {
   "cell_type": "code",
   "execution_count": 33,
   "metadata": {
    "hidden": true
   },
   "outputs": [],
   "source": [
    "def cost_threshold(threshold):\n",
    "    prediction_threshold = data['1 probability'] > threshold\n",
    "\n",
    "    #~ = \"not\" pour les tableaux / & = \"and\" pour les tableaux / | = \"or\" pour les tableaux\n",
    "    \n",
    "    P_pred = prediction_threshold\n",
    "    N_pred = ~prediction_threshold\n",
    "    \n",
    "    P_real = (data['SeriousDlqin2yrs'] == 1)\n",
    "    N_real = (data['SeriousDlqin2yrs'] == 0)\n",
    "    \n",
    "    TP = len(data.loc[P_pred & P_real])\n",
    "    TN = len(data.loc[N_pred & N_real])\n",
    "    FP = len(data.loc[P_pred & N_real])\n",
    "    FN = len(data.loc[N_pred & P_real])\n",
    "    \n",
    "    TP_cost = 0\n",
    "    FN_cost = -2500\n",
    "    FP_cost = -500\n",
    "    TN_cost = 500\n",
    "\n",
    "    cost = TP * TP_cost\n",
    "    cost += TN * TN_cost\n",
    "    cost += FP * FP_cost\n",
    "    cost += FN * FN_cost\n",
    "    \n",
    "    return cost"
   ]
  },
  {
   "cell_type": "markdown",
   "metadata": {
    "heading_collapsed": true
   },
   "source": [
    "### Visualisation graphique de la matrice de coûts"
   ]
  },
  {
   "cell_type": "code",
   "execution_count": 34,
   "metadata": {
    "hidden": true,
    "scrolled": true
   },
   "outputs": [
    {
     "data": {
      "text/plain": [
       "[<matplotlib.lines.Line2D at 0x7f76a3cf3ed0>]"
      ]
     },
     "execution_count": 34,
     "metadata": {},
     "output_type": "execute_result"
    },
    {
     "data": {
      "image/png": "[encoded data removed]",
      "text/plain": [
       "<Figure size 432x288 with 1 Axes>"
      ]
     },
     "metadata": {
      "needs_background": "light"
     },
     "output_type": "display_data"
    }
   ],
   "source": [
    "table = [cost_threshold(n/3000) for n in range(0,3000)]\n",
    "plt.plot(table)"
   ]
  },
  {
   "cell_type": "markdown",
   "metadata": {
    "hidden": true
   },
   "source": [
    "Ici, on cherche quelle est la valeur maximum atteinte et avec quel seuil"
   ]
  },
  {
   "cell_type": "code",
   "execution_count": 35,
   "metadata": {
    "hidden": true
   },
   "outputs": [
    {
     "name": "stdout",
     "output_type": "stream",
     "text": [
      "Le gain maximum est 9841500 et il est obtenu avec un seuil de 0.407\n"
     ]
    }
   ],
   "source": [
    "max_val = max(table)\n",
    "max_threshold = table.index(max_val)/3000\n",
    "print(f'Le gain maximum est {max_val} et il est obtenu avec un seuil de {max_threshold}')"
   ]
  },
  {
   "cell_type": "markdown",
   "metadata": {
    "heading_collapsed": true
   },
   "source": [
    "### AUC"
   ]
  },
  {
   "cell_type": "markdown",
   "metadata": {
    "hidden": true
   },
   "source": [
    "AUC signifie \"aire sous la courbe ROC\". Cette valeur mesure l'intégralité de l'aire à deux dimensions située sous l'ensemble de la courbe ROC.\n",
    "\n",
    "Cela correspond au nombre de valeurs de P trouvées dans la colonne '1 probability' par rapport au nombre de valeurs de N trouvées dans la même colonne."
   ]
  },
  {
   "cell_type": "code",
   "execution_count": 36,
   "metadata": {
    "hidden": true
   },
   "outputs": [
    {
     "data": {
      "text/plain": [
       "0.8361523875560773"
      ]
     },
     "execution_count": 36,
     "metadata": {},
     "output_type": "execute_result"
    }
   ],
   "source": [
    "#positive = (data['SeriousDlqin2yrs'] == 1)\n",
    "#nb_positive = len(data.loc[positive])\n",
    "#nb_negative = len(data.loc[~positive])\n",
    "#results = data[['1 probability','SeriousDlqin2yrs']]\n",
    "#threshold_list = results.sort_values(by='1 probability', ascending=False)['SeriousDlqin2yrs'].values\n",
    "\n",
    "#auc = 0\n",
    "#p_add = 0\n",
    "\n",
    "#for i in range(len(threshold_list)):\n",
    "#    if threshold_list[1] == 1:\n",
    "#        p_add += 1\n",
    "#    else:\n",
    "#        auc += p_add\n",
    "\n",
    "#auc = auc/(nb_positive*nb_negative)\n",
    "is_positive = (data['SeriousDlqin2yrs'] == 1)\n",
    "nb_positive = len(data.loc[is_positive])\n",
    "nb_negative = len(data.loc[~is_positive])\n",
    "df_threshold=DataFrame(index=data['1 probability'])\n",
    "df_threshold['positive'] = is_positive.values\n",
    "df_threshold.sort_index(inplace=True, ascending=False)\n",
    "\n",
    "df_threshold['positive_sum'] =  df_threshold['positive'].cumsum()\n",
    "auc=df_threshold.loc[~df_threshold['positive']]['positive_sum'].sum()/(nb_positive*nb_negative)\n",
    "auc"
   ]
  },
  {
   "cell_type": "markdown",
   "metadata": {
    "heading_collapsed": true
   },
   "source": [
    "### Visualisation graphique de l'AUC"
   ]
  },
  {
   "cell_type": "code",
   "execution_count": 37,
   "metadata": {
    "hidden": true
   },
   "outputs": [
    {
     "data": {
      "image/png": "[encoded data removed]",
      "text/plain": [
       "<Figure size 432x288 with 1 Axes>"
      ]
     },
     "metadata": {
      "needs_background": "light"
     },
     "output_type": "display_data"
    }
   ],
   "source": [
    "threshold_list = data.sort_values(by='1 probability',ascending=False)['SeriousDlqin2yrs'].values\n",
    "\n",
    "tpr = []\n",
    "fpr = []\n",
    "\n",
    "positive_sum = 0\n",
    "negative_sum = 0\n",
    "for i in range(len(threshold_list)):\n",
    "    if threshold_list[i] == 1:\n",
    "        positive_sum += 1\n",
    "    else:\n",
    "        negative_sum += 1\n",
    "    tpr.append(positive_sum/nb_positive)\n",
    "    fpr.append(negative_sum/nb_negative)\n",
    "plt.title('AUC')\n",
    "plt.plot(fpr,tpr)\n",
    "plt.show()"
   ]
  },
  {
   "cell_type": "markdown",
   "metadata": {
    "heading_collapsed": true
   },
   "source": [
    "### Visualisations graphiques des learning curves"
   ]
  },
  {
   "cell_type": "markdown",
   "metadata": {
    "hidden": true
   },
   "source": [
    "Le train set de départ va être divisé en 10 sous-sets comprenant 10% des données de l'ensemble.\n",
    "\n",
    "Les learning curves servent à visualiser un graphe avec les courbes d'un modèle Deepnet et d'un modèle Ensemble effectués tous les 2 sur un chaque sous-set."
   ]
  },
  {
   "cell_type": "code",
   "execution_count": 42,
   "metadata": {
    "hidden": true
   },
   "outputs": [],
   "source": [
    "AUC = []\n",
    "AUC_deep = []\n",
    "sizes = []\n",
    "\n",
    "for i in range(1,11):\n",
    "    train_dataset_split = api.create_dataset(train_dataset, {\"name\": f\"Train Split {i/10}\",\n",
    "                     \"sample_rate\": i/10, \"seed\": \"my seed\"})\n",
    "    api.ok(train_dataset_split)\n",
    "    model = api.create_ensemble(train_dataset_split,{\"objective_field\" : \"SeriousDlqin2yrs\"})\n",
    "    evaluation = api.create_evaluation(model, validation_dataset)\n",
    "    api.ok(evaluation)\n",
    "    myauc = evaluation['object']['result']['model']['average_area_under_roc_curve']\n",
    "    \n",
    "    model_deep = api.create_deepnet(train_dataset_split,{\"objective_field\" : \"SeriousDlqin2yrs\"})\n",
    "    evaluation_deep = api.create_evaluation(model_deep, validation_dataset)\n",
    "    api.ok(evaluation_deep)\n",
    "    myauc_deep = evaluation_deep['object']['result']['model']['average_area_under_roc_curve']\n",
    "    \n",
    "    AUC.append(myauc)\n",
    "    AUC_deep.append(myauc_deep)\n",
    "    sizes.append(i/10)"
   ]
  },
  {
   "cell_type": "code",
   "execution_count": 45,
   "metadata": {
    "hidden": true
   },
   "outputs": [
    {
     "data": {
      "image/png": "[encoded data removed]",
      "text/plain": [
       "<Figure size 432x288 with 1 Axes>"
      ]
     },
     "metadata": {
      "needs_background": "light"
     },
     "output_type": "display_data"
    }
   ],
   "source": [
    "size=[a/10 for a in range(1,11)]\n",
    "graph1 = plt.plot(size,AUC)\n",
    "graph2 = plt.plot(size,AUC_deep)\n",
    "\n",
    "plt.title('Deepnet VS Ensemble')\n",
    "plt.xlabel('Size')\n",
    "plt.ylabel('AUC')\n",
    "plt.show()"
   ]
  },
  {
   "cell_type": "code",
   "execution_count": 47,
   "metadata": {
    "hidden": true
   },
   "outputs": [
    {
     "data": {
      "text/plain": [
       "[0.83246,\n",
       " 0.83453,\n",
       " 0.8377,\n",
       " 0.84141,\n",
       " 0.84212,\n",
       " 0.83396,\n",
       " 0.83993,\n",
       " 0.84132,\n",
       " 0.84015,\n",
       " 0.83626]"
      ]
     },
     "execution_count": 47,
     "metadata": {},
     "output_type": "execute_result"
    }
   ],
   "source": [
    "AUC_deep"
   ]
  },
  {
   "cell_type": "markdown",
   "metadata": {},
   "source": [
    "# 3EME PARTIE - OPERATIONS SUR LE TEST SET"
   ]
  },
  {
   "cell_type": "markdown",
   "metadata": {
    "heading_collapsed": true
   },
   "source": [
    "### Traitement du fichier \"kaggle-give-me-credit-test.csv\" (test)"
   ]
  },
  {
   "cell_type": "markdown",
   "metadata": {
    "hidden": true
   },
   "source": [
    "On ajoute de nouvelles features (des données) au sein de nouvelles colonnes pour améliorer la précision."
   ]
  },
  {
   "cell_type": "code",
   "execution_count": 37,
   "metadata": {
    "hidden": true
   },
   "outputs": [],
   "source": [
    "df_test_kaggle['IncomePerPerson'] = df_test_kaggle['MonthlyIncome'] / ( df_test_kaggle['NumberOfDependents'] + 1 )\n",
    "df_test_kaggle.loc[df_test_kaggle.age > 80, 'isOld'] = '1' \n",
    "df_test_kaggle.loc[df_test_kaggle.age <= 80, 'isOld'] = '0'\n",
    "df_test_kaggle['MonthlyDebt'] = df_test_kaggle['MonthlyIncome'] * df_test_kaggle['DebtRatio']\n",
    "df_test_kaggle['MonthlyBalance'] = df_test_kaggle['MonthlyIncome'] - df_test_kaggle['MonthlyDebt']\n",
    "df_test_kaggle['DebtPerPerson'] = df_test_kaggle['MonthlyDebt'] / ( df_test_kaggle['NumberOfDependents'] + 1 )\n",
    "df_test_kaggle['BalancePerPerson'] = df_test_kaggle['MonthlyBalance'] / ( df_test_kaggle['NumberOfDependents'] + 1 )\n",
    "df_test_kaggle['NumberOfTime30-89DaysPastDueNotWorse'] = df_test_kaggle['NumberOfTime30-59DaysPastDueNotWorse'] + df_test_kaggle['NumberOfTime60-89DaysPastDueNotWorse']\n",
    "df_test_kaggle['NumbersOfOpen-NumberRealEstate'] = df_test_kaggle['NumberOfOpenCreditLinesAndLoans'] - df_test_kaggle['NumberRealEstateLoansOrLines']"
   ]
  },
  {
   "cell_type": "markdown",
   "metadata": {
    "hidden": true
   },
   "source": [
    "On remplace les valeurs vides par des 0."
   ]
  },
  {
   "cell_type": "code",
   "execution_count": 38,
   "metadata": {
    "hidden": true
   },
   "outputs": [],
   "source": [
    "df_test_kaggle = df_test_kaggle.fillna(0)"
   ]
  },
  {
   "cell_type": "markdown",
   "metadata": {
    "hidden": true
   },
   "source": [
    "On transfère toutes les données dans un fichier csv situé dans le même dossier que ce script.\n",
    "\n",
    "index_label=\"Id\" va mettre comme entête de la première colonne \"Id\" (nécessaire pour Kaggle)."
   ]
  },
  {
   "cell_type": "code",
   "execution_count": 39,
   "metadata": {
    "hidden": true
   },
   "outputs": [],
   "source": [
    "df_test_kaggle.to_csv('PANDAset_test.csv', index_label=\"Id\")"
   ]
  },
  {
   "cell_type": "markdown",
   "metadata": {
    "heading_collapsed": true
   },
   "source": [
    "### Création d'une source de données à partir du fichier"
   ]
  },
  {
   "cell_type": "markdown",
   "metadata": {
    "hidden": true,
    "scrolled": true
   },
   "source": [
    "Création d'une source à partir du fichier csv modifié avec l'ajout de nouvelles feature.\n",
    "\n",
    "Même logique que pour Trainfull."
   ]
  },
  {
   "cell_type": "code",
   "execution_count": 40,
   "metadata": {
    "hidden": true
   },
   "outputs": [],
   "source": [
    "source_test = api.create_source('PANDAset_test.csv')"
   ]
  },
  {
   "cell_type": "markdown",
   "metadata": {
    "hidden": true
   },
   "source": [
    "Commandes qui nous permettent de s'assurer que l'étape précédente a bien été réalisée."
   ]
  },
  {
   "cell_type": "code",
   "execution_count": 41,
   "metadata": {
    "hidden": true
   },
   "outputs": [
    {
     "name": "stdout",
     "output_type": "stream",
     "text": [
      "Source créée\n"
     ]
    }
   ],
   "source": [
    "api.ok(source_test)\n",
    "print(\"Source créée\")"
   ]
  },
  {
   "cell_type": "markdown",
   "metadata": {
    "heading_collapsed": true
   },
   "source": [
    "### Transformation de la source en un ensemble de données traité et préparé pour le modèle"
   ]
  },
  {
   "cell_type": "markdown",
   "metadata": {
    "hidden": true
   },
   "source": [
    "Création d'un dataset à partir de la source précédemment créée.\n",
    "\n",
    "Même logique que pour Trainfull."
   ]
  },
  {
   "cell_type": "code",
   "execution_count": 42,
   "metadata": {
    "hidden": true
   },
   "outputs": [],
   "source": [
    "origin_dataset_test = api.create_dataset(source_test)"
   ]
  },
  {
   "cell_type": "markdown",
   "metadata": {
    "hidden": true
   },
   "source": [
    "Commandes qui nous permettent de s'assurer que l'étape précédente a bien été réalisée."
   ]
  },
  {
   "cell_type": "code",
   "execution_count": 43,
   "metadata": {
    "hidden": true
   },
   "outputs": [
    {
     "name": "stdout",
     "output_type": "stream",
     "text": [
      "Dataset créé\n"
     ]
    }
   ],
   "source": [
    "api.ok(origin_dataset_test)\n",
    "print(\"Dataset créé\")"
   ]
  },
  {
   "cell_type": "markdown",
   "metadata": {
    "heading_collapsed": true
   },
   "source": [
    "### Création d'un modèle prédictif de type \"Model\""
   ]
  },
  {
   "cell_type": "markdown",
   "metadata": {
    "hidden": true
   },
   "source": [
    "Création d'un modele ensemble sur la partie Train du dataset et on precise quelle est la donnée que l'on recherche."
   ]
  },
  {
   "cell_type": "code",
   "execution_count": 44,
   "metadata": {
    "hidden": true
   },
   "outputs": [],
   "source": [
    "deepnet2 = api.create_deepnet(origin_dataset, {\"objective_field\":\"SeriousDlqin2yrs\"})"
   ]
  },
  {
   "cell_type": "markdown",
   "metadata": {
    "heading_collapsed": true
   },
   "source": [
    "### Mise en place d'une prédiction"
   ]
  },
  {
   "cell_type": "markdown",
   "metadata": {
    "hidden": true,
    "scrolled": false
   },
   "source": [
    "Création de la prediction à partir du modèle et sur l'ensemble de test.\n",
    "\n",
    "Même logique que pour le Trainfull."
   ]
  },
  {
   "cell_type": "code",
   "execution_count": 45,
   "metadata": {
    "hidden": true
   },
   "outputs": [],
   "source": [
    "batch_prediction2 = api.create_batch_prediction(deepnet2, origin_dataset_test, {\n",
    "    \"output_fields\":[\"Id\"], \"header\": True, \"confidence\" : True, \"probabilities\": True})"
   ]
  },
  {
   "cell_type": "markdown",
   "metadata": {
    "hidden": true
   },
   "source": [
    "Commandes qui nous permettent de s'assurer que l'étape précédente a bien été réalisée."
   ]
  },
  {
   "cell_type": "code",
   "execution_count": 46,
   "metadata": {
    "hidden": true
   },
   "outputs": [
    {
     "name": "stdout",
     "output_type": "stream",
     "text": [
      "Prédiction faite\n"
     ]
    }
   ],
   "source": [
    "api.ok(batch_prediction2)\n",
    "print(\"Prédiction faite\")"
   ]
  },
  {
   "cell_type": "markdown",
   "metadata": {
    "hidden": true
   },
   "source": [
    "On télécharge notre prédiction dans un fichier csv dans le même dossier que ce script."
   ]
  },
  {
   "cell_type": "code",
   "execution_count": 47,
   "metadata": {
    "hidden": true
   },
   "outputs": [
    {
     "data": {
      "text/plain": [
       "'my_final_predictions.csv'"
      ]
     },
     "execution_count": 47,
     "metadata": {},
     "output_type": "execute_result"
    }
   ],
   "source": [
    "api.download_batch_prediction(batch_prediction2,filename='my_final_predictions.csv')"
   ]
  },
  {
   "cell_type": "markdown",
   "metadata": {},
   "source": [
    "# 4EME PARTIE - FORMATTAGE DU FICHIER ET ENVOI A KAGGLE"
   ]
  },
  {
   "cell_type": "markdown",
   "metadata": {
    "heading_collapsed": true
   },
   "source": [
    "### Formattage du fichier de prédictions finales"
   ]
  },
  {
   "cell_type": "markdown",
   "metadata": {
    "hidden": true
   },
   "source": [
    "On veut repartir du fichier précédemment fait."
   ]
  },
  {
   "cell_type": "code",
   "execution_count": 48,
   "metadata": {
    "hidden": true
   },
   "outputs": [],
   "source": [
    "submit = read_csv('my_final_predictions.csv',index_col=0)"
   ]
  },
  {
   "cell_type": "markdown",
   "metadata": {
    "hidden": true
   },
   "source": [
    "On modifie l'intitulé de 2 colonnes pour correspondre à ce qu'attend Kaggle."
   ]
  },
  {
   "cell_type": "code",
   "execution_count": 49,
   "metadata": {
    "hidden": true
   },
   "outputs": [],
   "source": [
    "submit = submit.rename(columns={'1 probability': 'Probability'})"
   ]
  },
  {
   "cell_type": "markdown",
   "metadata": {
    "hidden": true
   },
   "source": [
    "On supprime toutes les colonnes inutiles pour l'envoi à Kaggle."
   ]
  },
  {
   "cell_type": "code",
   "execution_count": 50,
   "metadata": {
    "hidden": true
   },
   "outputs": [],
   "source": [
    "submit = submit.drop(columns={'confidence', '0 probability', 'SeriousDlqin2yrs'})"
   ]
  },
  {
   "cell_type": "markdown",
   "metadata": {
    "hidden": true
   },
   "source": [
    "On met ce nouveau fichier formaté dans un autre fichier dédié à l'envoi sur Kaggle."
   ]
  },
  {
   "cell_type": "code",
   "execution_count": 51,
   "metadata": {
    "hidden": true
   },
   "outputs": [],
   "source": [
    "submit.to_csv(\"submitKaggle.csv\", index_label=\"Id\")"
   ]
  },
  {
   "cell_type": "markdown",
   "metadata": {
    "heading_collapsed": true
   },
   "source": [
    "### Envoi à Kaggle"
   ]
  },
  {
   "cell_type": "markdown",
   "metadata": {
    "hidden": true
   },
   "source": [
    "Transmission du fichier directement sur Kaggle."
   ]
  },
  {
   "cell_type": "code",
   "execution_count": 52,
   "metadata": {
    "hidden": true
   },
   "outputs": [
    {
     "name": "stderr",
     "output_type": "stream",
     "text": [
      "100%|██████████| 1.65M/1.65M [00:04<00:00, 379kB/s] \n"
     ]
    },
    {
     "data": {
      "text/plain": [
       "Successfully submitted to Give Me Some Credit"
      ]
     },
     "execution_count": 52,
     "metadata": {},
     "output_type": "execute_result"
    }
   ],
   "source": [
    "kaggle.api.competition_submit(\"submitKaggle.csv\", \"Essai\",\"GiveMeSomeCredit\")"
   ]
  },
  {
   "cell_type": "code",
   "execution_count": 53,
   "metadata": {
    "hidden": true
   },
   "outputs": [
    {
     "name": "stdout",
     "output_type": "stream",
     "text": [
      "Fichier bien transmis sur Kaggle. Bonne chance !\n"
     ]
    }
   ],
   "source": [
    "print(\"Fichier bien transmis sur Kaggle. Bonne chance !\")"
   ]
  }
 ],
 "metadata": {
  "kernelspec": {
   "display_name": "Python 3",
   "language": "python",
   "name": "python3"
  },
  "language_info": {
   "codemirror_mode": {
    "name": "ipython",
    "version": 3
   },
   "file_extension": ".py",
   "mimetype": "text/x-python",
   "name": "python",
   "nbconvert_exporter": "python",
   "pygments_lexer": "ipython3",
   "version": "3.7.4"
  }
 },
 "nbformat": 4,
 "nbformat_minor": 2
}
